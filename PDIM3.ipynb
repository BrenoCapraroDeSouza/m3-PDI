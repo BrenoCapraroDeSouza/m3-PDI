{
  "cells": [
    {
      "cell_type": "markdown",
      "metadata": {
        "id": "pOU6jNdA7A4t"
      },
      "source": [
        "## Imports"
      ]
    },
    {
      "cell_type": "code",
      "execution_count": 26,
      "metadata": {
        "colab": {
          "base_uri": "https://localhost:8080/"
        },
        "collapsed": true,
        "id": "JfJkd6i-7Asy",
        "outputId": "a90f2dc1-cc26-4cd9-8c56-f11db6d2e493"
      },
      "outputs": [
        {
          "name": "stdout",
          "output_type": "stream",
          "text": [
            "Requirement already satisfied: opencv-python in c:\\users\\rafae\\appdata\\local\\programs\\python\\python312\\lib\\site-packages (4.11.0.86)\n",
            "Requirement already satisfied: seaborn in c:\\users\\rafae\\appdata\\local\\programs\\python\\python312\\lib\\site-packages (0.13.2)\n",
            "Requirement already satisfied: numpy>=1.21.2 in c:\\users\\rafae\\appdata\\local\\programs\\python\\python312\\lib\\site-packages (from opencv-python) (2.1.3)\n",
            "Requirement already satisfied: pandas>=1.2 in c:\\users\\rafae\\appdata\\local\\programs\\python\\python312\\lib\\site-packages (from seaborn) (2.2.3)\n",
            "Requirement already satisfied: matplotlib!=3.6.1,>=3.4 in c:\\users\\rafae\\appdata\\local\\programs\\python\\python312\\lib\\site-packages (from seaborn) (3.10.1)\n",
            "Requirement already satisfied: contourpy>=1.0.1 in c:\\users\\rafae\\appdata\\local\\programs\\python\\python312\\lib\\site-packages (from matplotlib!=3.6.1,>=3.4->seaborn) (1.3.1)\n",
            "Requirement already satisfied: cycler>=0.10 in c:\\users\\rafae\\appdata\\local\\programs\\python\\python312\\lib\\site-packages (from matplotlib!=3.6.1,>=3.4->seaborn) (0.12.1)\n",
            "Requirement already satisfied: fonttools>=4.22.0 in c:\\users\\rafae\\appdata\\local\\programs\\python\\python312\\lib\\site-packages (from matplotlib!=3.6.1,>=3.4->seaborn) (4.57.0)\n",
            "Requirement already satisfied: kiwisolver>=1.3.1 in c:\\users\\rafae\\appdata\\local\\programs\\python\\python312\\lib\\site-packages (from matplotlib!=3.6.1,>=3.4->seaborn) (1.4.8)\n",
            "Requirement already satisfied: packaging>=20.0 in c:\\users\\rafae\\appdata\\roaming\\python\\python312\\site-packages (from matplotlib!=3.6.1,>=3.4->seaborn) (24.2)\n",
            "Requirement already satisfied: pillow>=8 in c:\\users\\rafae\\appdata\\local\\programs\\python\\python312\\lib\\site-packages (from matplotlib!=3.6.1,>=3.4->seaborn) (11.1.0)\n",
            "Requirement already satisfied: pyparsing>=2.3.1 in c:\\users\\rafae\\appdata\\local\\programs\\python\\python312\\lib\\site-packages (from matplotlib!=3.6.1,>=3.4->seaborn) (3.2.3)\n",
            "Requirement already satisfied: python-dateutil>=2.7 in c:\\users\\rafae\\appdata\\roaming\\python\\python312\\site-packages (from matplotlib!=3.6.1,>=3.4->seaborn) (2.9.0.post0)\n",
            "Requirement already satisfied: pytz>=2020.1 in c:\\users\\rafae\\appdata\\local\\programs\\python\\python312\\lib\\site-packages (from pandas>=1.2->seaborn) (2025.2)\n",
            "Requirement already satisfied: tzdata>=2022.7 in c:\\users\\rafae\\appdata\\local\\programs\\python\\python312\\lib\\site-packages (from pandas>=1.2->seaborn) (2025.2)\n",
            "Requirement already satisfied: six>=1.5 in c:\\users\\rafae\\appdata\\roaming\\python\\python312\\site-packages (from python-dateutil>=2.7->matplotlib!=3.6.1,>=3.4->seaborn) (1.17.0)\n"
          ]
        },
        {
          "name": "stderr",
          "output_type": "stream",
          "text": [
            "\n",
            "[notice] A new release of pip is available: 23.3.2 -> 25.1.1\n",
            "[notice] To update, run: python.exe -m pip install --upgrade pip\n"
          ]
        }
      ],
      "source": [
        "!pip install opencv-python seaborn\n",
        "\n",
        "import os\n",
        "import cv2\n",
        "import numpy as np\n",
        "import matplotlib.pyplot as plt\n",
        "import seaborn as sns\n",
        "from sklearn.model_selection import train_test_split\n",
        "from sklearn.metrics import classification_report, confusion_matrix, accuracy_score\n",
        "import tensorflow as tf\n",
        "from tensorflow import keras\n",
        "from tensorflow.keras import layers, models\n",
        "from tensorflow.keras.preprocessing.image import ImageDataGenerator\n",
        "from tensorflow.keras.callbacks import EarlyStopping, ReduceLROnPlateau\n",
        "from tensorflow.keras.layers import Conv2D, AveragePooling2D, Flatten, Dense\n",
        "import zipfile\n",
        "from pathlib import Path\n",
        "\n",
        "# print(\"TensorFlow version:\", tf.__version__)\n",
        "# print(\"GPU Available:\", tf.config.list_physical_devices('GPU'))"
      ]
    },
    {
      "cell_type": "markdown",
      "metadata": {
        "id": "iYu-fSWsjs-6"
      },
      "source": [
        "## Config"
      ]
    },
    {
      "cell_type": "code",
      "execution_count": 34,
      "metadata": {
        "id": "WpOniE1rjuE7"
      },
      "outputs": [
        {
          "name": "stderr",
          "output_type": "stream",
          "text": [
            "<>:5: SyntaxWarning: invalid escape sequence '\\d'\n",
            "<>:5: SyntaxWarning: invalid escape sequence '\\d'\n",
            "C:\\Users\\rafae\\AppData\\Local\\Temp\\ipykernel_28440\\2141204357.py:5: SyntaxWarning: invalid escape sequence '\\d'\n",
            "  DATA_PATH = \"src\\dataset\"\n"
          ]
        }
      ],
      "source": [
        "IMAGE_SIZE = (32, 32)\n",
        "BATCH_SIZE = 32\n",
        "EPOCHS = 30\n",
        "VALIDATION_SPLIT = 0.2\n",
        "DATA_PATH = \"src\\dataset\""
      ]
    },
    {
      "cell_type": "markdown",
      "metadata": {
        "id": "-GQOBD4hqKx-"
      },
      "source": [
        "## Testing Dataset"
      ]
    },
    {
      "cell_type": "code",
      "execution_count": 35,
      "metadata": {
        "colab": {
          "base_uri": "https://localhost:8080/"
        },
        "id": "pqF7kyVqqMYJ",
        "outputId": "21affecf-d566-4d32-84ae-688675d7c977"
      },
      "outputs": [
        {
          "name": "stdout",
          "output_type": "stream",
          "text": [
            "Explorando dataset em: src\\dataset\n",
            "dataset/\n",
            "  Negative/\n",
            "    00001.jpg\n",
            "    00002.jpg\n",
            "    00003.jpg\n",
            "    00004.jpg\n",
            "    00005.jpg\n",
            "    ... e mais 19995 arquivos\n",
            "  Positive/\n",
            "    00001.jpg\n",
            "    00002.jpg\n",
            "    00003.jpg\n",
            "    00004.jpg\n",
            "    00005.jpg\n",
            "    ... e mais 19995 arquivos\n"
          ]
        }
      ],
      "source": [
        "def explore_dataset(data_path):\n",
        "    print(f\"Explorando dataset em: {data_path}\")\n",
        "\n",
        "    if not os.path.exists(data_path):\n",
        "        print(\"Dataset não encontrado!\")\n",
        "        return\n",
        "\n",
        "    for root, dirs, files in os.walk(data_path):\n",
        "        level = root.replace(data_path, '').count(os.sep)\n",
        "        indent = ' ' * 2 * level\n",
        "        print(f\"{indent}{os.path.basename(root)}/\")\n",
        "        subindent = ' ' * 2 * (level + 1)\n",
        "        for file in files[:5]:\n",
        "            print(f\"{subindent}{file}\")\n",
        "        if len(files) > 5:\n",
        "            print(f\"{subindent}... e mais {len(files) - 5} arquivos\")\n",
        "\n",
        "explore_dataset(DATA_PATH)"
      ]
    },
    {
      "cell_type": "markdown",
      "metadata": {
        "id": "xgj1BF8TJSr5"
      },
      "source": [
        "## Preprocess Dataset"
      ]
    },
    {
      "cell_type": "code",
      "execution_count": 36,
      "metadata": {
        "id": "B_tph0_1JU1v"
      },
      "outputs": [],
      "source": [
        "def preprocess_image(image_path, target_size=IMAGE_SIZE):\n",
        "    \"\"\"\n",
        "    Pré-processa uma imagem individual\n",
        "    \"\"\"\n",
        "    # Carregar imagem\n",
        "    image = cv2.imread(image_path, cv2.IMREAD_COLOR)\n",
        "    if image is None:\n",
        "        raise ValueError(f\"Não foi possível carregar a imagem: {image_path}\")\n",
        "\n",
        "    # Converter BGR para RGB\n",
        "    image_rgb = cv2.cvtColor(image, cv2.COLOR_BGR2RGB)\n",
        "\n",
        "    # Remoção de ruído usando filtro Gaussiano\n",
        "    # JUSTIFICATIVA: Remove ruído preservando bordas importantes para detecção de rachaduras\n",
        "    image_denoised = cv2.GaussianBlur(image_rgb, (5, 5), 0)\n",
        "\n",
        "    # Redimensionar para tamanho padrão\n",
        "    image_resized = cv2.resize(image_denoised, target_size)\n",
        "\n",
        "    # Normalização (0-1)\n",
        "    image_normalized = image_resized / 255.0\n",
        "\n",
        "    return image_normalized\n",
        "\n",
        "def show_preprocessing_steps(image_path):\n",
        "    \"\"\"\n",
        "    Demonstra as etapas de pré-processamento\n",
        "    \"\"\"\n",
        "    # Carregar imagem original\n",
        "    original = cv2.imread(image_path)\n",
        "    original_rgb = cv2.cvtColor(original, cv2.COLOR_BGR2RGB)\n",
        "\n",
        "    # Aplicar pré-processamento\n",
        "    denoised = cv2.GaussianBlur(original_rgb, (5, 5), 0)\n",
        "    resized = cv2.resize(denoised, IMAGE_SIZE)\n",
        "    normalized = resized / 255.0\n",
        "\n",
        "    # Plotar resultados\n",
        "    fig, axes = plt.subplots(1, 4, figsize=(16, 4))\n",
        "\n",
        "    axes[0].imshow(original_rgb)\n",
        "    axes[0].set_title(\"Original\")\n",
        "    axes[0].axis(\"off\")\n",
        "\n",
        "    axes[1].imshow(denoised)\n",
        "    axes[1].set_title(\"Filtro Gaussiano\\n(Remoção de Ruído)\")\n",
        "    axes[1].axis(\"off\")\n",
        "\n",
        "    axes[2].imshow(resized)\n",
        "    axes[2].set_title(f\"Redimensionada\\n{IMAGE_SIZE}\")\n",
        "    axes[2].axis(\"off\")\n",
        "\n",
        "    axes[3].imshow(normalized)\n",
        "    axes[3].set_title(\"Normalizada (0-1)\")\n",
        "    axes[3].axis(\"off\")\n",
        "\n",
        "    plt.tight_layout()\n",
        "    plt.show()"
      ]
    },
    {
      "cell_type": "markdown",
      "metadata": {
        "id": "dx97qc-dJjEp"
      },
      "source": [
        "## Load Samples"
      ]
    },
    {
      "cell_type": "code",
      "execution_count": 56,
      "metadata": {
        "id": "ydbgIXacJlzo"
      },
      "outputs": [],
      "source": [
        "def load_sample_images(data_path, n_samples=5):\n",
        "    \"\"\"\n",
        "    Carrega amostras do dataset para exploração\n",
        "    \"\"\"\n",
        "    positive_path = os.path.join(data_path, \"positives\")\n",
        "    negative_path = os.path.join(data_path, \"negatives\")\n",
        "\n",
        "    # Verificar se os diretórios existem\n",
        "    if not os.path.exists(positive_path):\n",
        "        print(\"Diretório 'Positive' não encontrado. Procurando estrutura alternativa...\")\n",
        "        # Procurar por estrutura alternativa\n",
        "        for root, dirs, files in os.walk(data_path):\n",
        "            if any('positive' in d.lower() or 'crack' in d.lower() for d in dirs):\n",
        "                positive_path = os.path.join(root, [d for d in dirs if 'positive' in d.lower() or 'crack' in d.lower()][0])\n",
        "                break\n",
        "\n",
        "    if not os.path.exists(negative_path):\n",
        "        print(\"Diretório 'Negative' não encontrado. Procurando estrutura alternativa...\")\n",
        "        for root, dirs, files in os.walk(data_path):\n",
        "            if any('negative' in d.lower() or 'no' in d.lower() for d in dirs):\n",
        "                negative_path = os.path.join(root, [d for d in dirs if 'negative' in d.lower() or 'no' in d.lower()][0])\n",
        "                break\n",
        "\n",
        "    print(f\"Positive path: {positive_path}\")\n",
        "    print(f\"Negative path: {negative_path}\")\n",
        "\n",
        "    # Carregar amostras\n",
        "    fig, axes = plt.subplots(2, n_samples, figsize=(15, 6))\n",
        "\n",
        "    # Imagens com rachadura\n",
        "    if os.path.exists(positive_path):\n",
        "        positive_files = [f for f in os.listdir(positive_path) if f.lower().endswith(('.jpg', '.jpeg', '.png'))]\n",
        "        for i in range(min(n_samples, len(positive_files))):\n",
        "            img_path = os.path.join(positive_path, positive_files[i])\n",
        "            img = cv2.imread(img_path)\n",
        "            img_rgb = cv2.cvtColor(img, cv2.COLOR_BGR2RGB)\n",
        "            axes[0, i].imshow(img_rgb)\n",
        "            axes[0, i].set_title(f\"COM RACHADURA\\n{positive_files[i]}\")\n",
        "            axes[0, i].axis(\"off\")\n",
        "\n",
        "    # Imagens sem rachadura\n",
        "    if os.path.exists(negative_path):\n",
        "        negative_files = [f for f in os.listdir(negative_path) if f.lower().endswith(('.jpg', '.jpeg', '.png'))]\n",
        "        for i in range(min(n_samples, len(negative_files))):\n",
        "            img_path = os.path.join(negative_path, negative_files[i])\n",
        "            img = cv2.imread(img_path)\n",
        "            img_rgb = cv2.cvtColor(img, cv2.COLOR_BGR2RGB)\n",
        "            axes[1, i].imshow(img_rgb)\n",
        "            axes[1, i].set_title(f\"SEM RACHADURA\\n{negative_files[i]}\")\n",
        "            axes[1, i].axis(\"off\")\n",
        "\n",
        "    plt.tight_layout()\n",
        "    plt.show()"
      ]
    },
    {
      "cell_type": "markdown",
      "metadata": {
        "id": "e3AFGaAhJsq3"
      },
      "source": [
        "## CNN Model"
      ]
    },
    {
      "cell_type": "code",
      "execution_count": 63,
      "metadata": {
        "colab": {
          "base_uri": "https://localhost:8080/",
          "height": 788
        },
        "collapsed": true,
        "id": "IULal4PjJty-",
        "outputId": "43de0905-a371-4431-acb1-2b2f2223d172"
      },
      "outputs": [],
      "source": [
        "def create_cnn_model(input_shape):\n",
        "    \"\"\"\n",
        "    Cria modelo CNN para classificação binária\n",
        "    \"\"\"\n",
        "    \n",
        "    model = models.Sequential([\n",
        "        Conv2D(filters=6, kernel_size=(5, 5), padding='valid', activation='tanh', input_shape=input_shape),\n",
        "        AveragePooling2D(pool_size=(2, 2), strides=2, padding='valid'),\n",
        "        Conv2D(filters=16, kernel_size=(5, 5),  padding='valid', activation='tanh'),\n",
        "        AveragePooling2D(pool_size=(2, 2), strides=2,  padding='valid'),\n",
        "        Flatten(),\n",
        "        Dense(units=120, activation='tanh'),\n",
        "        Dense(units=84, activation='tanh'),\n",
        "        Dense(units=1, activation='sigmoid')\n",
        "    ])\n",
        "\n",
        "    model.compile(\n",
        "        optimizer='adam',\n",
        "        loss='binary_crossentropy',\n",
        "        metrics=['accuracy', 'precision', 'recall']\n",
        "    )\n",
        "\n",
        "    return model\n",
        "\n",
        "# Criar e visualizar modelo"
      ]
    },
    {
      "cell_type": "markdown",
      "metadata": {
        "id": "onk_P3oCJ3Ua"
      },
      "source": [
        "## Load Dataset"
      ]
    },
    {
      "cell_type": "code",
      "execution_count": null,
      "metadata": {
        "id": "MrgU2PyWJ4qu"
      },
      "outputs": [
        {
          "name": "stdout",
          "output_type": "stream",
          "text": [
            "Carregando dataset...\n",
            "Positive path found: src\\dataset\\Positive (exists: True)\n",
            "Negative path found: src\\dataset\\Negative (exists: True)\n",
            "Carregando 5000 imagens COM rachadura...\n",
            "Processadas 0 imagens positivas...\n",
            "Processadas 1000 imagens positivas...\n",
            "Processadas 2000 imagens positivas...\n",
            "Processadas 3000 imagens positivas...\n",
            "Processadas 4000 imagens positivas...\n",
            "Carregando 5000 imagens SEM rachadura...\n",
            "Processadas 0 imagens negativas...\n",
            "Processadas 1000 imagens negativas...\n",
            "Processadas 2000 imagens negativas...\n",
            "Processadas 3000 imagens negativas...\n",
            "Processadas 4000 imagens negativas...\n",
            "\n",
            "Dataset carregado com sucesso!\n",
            "Total de imagens: 10000\n",
            "Imagens com rachadura: 5000\n",
            "Imagens sem rachadura: 5000\n",
            "Shape das imagens: (10000, 32, 32, 3)\n",
            "Shape dos labels: (10000,)\n"
          ]
        }
      ],
      "source": [
        "def load_full_dataset(data_path, sample_size=None):\n",
        "    \"\"\"\n",
        "    Carrega o dataset completo\n",
        "    \"\"\"\n",
        "    print(\"Carregando dataset...\")\n",
        "\n",
        "    # Procurar diretórios positivos e negativos (case-insensitive, plural/singular)\n",
        "    positive_path = os.path.join(data_path, \"Positive\")\n",
        "    negative_path = os.path.join(data_path, \"Negative\")\n",
        "\n",
        "    # Verificar estrutura alternativa se necessário\n",
        "    if not os.path.exists(positive_path):\n",
        "        for root, dirs, files in os.walk(data_path):\n",
        "            for d in dirs:\n",
        "                if 'positive' in d.lower() or 'crack' in d.lower():\n",
        "                    positive_path = os.path.join(root, d)\n",
        "                    break\n",
        "\n",
        "    if not os.path.exists(negative_path):\n",
        "        for root, dirs, files in os.walk(data_path):\n",
        "            for d in dirs:\n",
        "                if 'negative' in d.lower() or 'no' in d.lower():\n",
        "                    negative_path = os.path.join(root, d)\n",
        "                    break\n",
        "\n",
        "    print(f\"Positive path found: {positive_path} (exists: {os.path.exists(positive_path)})\")\n",
        "    print(f\"Negative path found: {negative_path} (exists: {os.path.exists(negative_path)})\")\n",
        "\n",
        "    if not os.path.exists(positive_path):\n",
        "        raise ValueError(f\"Diretório de imagens positivas não encontrado: {positive_path}\")\n",
        "    if not os.path.exists(negative_path):\n",
        "        raise ValueError(f\"Diretório de imagens negativas não encontrado: {negative_path}\")\n",
        "\n",
        "    images = []\n",
        "    labels = []\n",
        "\n",
        "    # Carregar imagens positivas (com rachaduras)\n",
        "    if os.path.exists(positive_path):\n",
        "        positive_files = [f for f in os.listdir(positive_path) if f.lower().endswith(('.jpg', '.jpeg', '.png'))]\n",
        "        if sample_size:\n",
        "            positive_files = positive_files[:sample_size//2]\n",
        "\n",
        "        print(f\"Carregando {len(positive_files)} imagens COM rachadura...\")\n",
        "        for i, filename in enumerate(positive_files):\n",
        "            if i % 1000 == 0:\n",
        "                print(f\"Processadas {i} imagens positivas...\")\n",
        "\n",
        "            img_path = os.path.join(positive_path, filename)\n",
        "            try:\n",
        "                img = preprocess_image(img_path)\n",
        "                images.append(img)\n",
        "                labels.append(1)  # Com rachadura\n",
        "            except Exception as e:\n",
        "                print(f\"Erro ao processar {filename}: {e}\")\n",
        "\n",
        "    # Carregar imagens negativas (sem rachaduras)\n",
        "    if os.path.exists(negative_path):\n",
        "        negative_files = [f for f in os.listdir(negative_path) if f.lower().endswith(('.jpg', '.jpeg', '.png'))]\n",
        "        if sample_size:\n",
        "            negative_files = negative_files[:sample_size//2]\n",
        "\n",
        "        print(f\"Carregando {len(negative_files)} imagens SEM rachadura...\")\n",
        "        for i, filename in enumerate(negative_files):\n",
        "            if i % 1000 == 0:\n",
        "                print(f\"Processadas {i} imagens negativas...\")\n",
        "\n",
        "            img_path = os.path.join(negative_path, filename)\n",
        "            try:\n",
        "                img = preprocess_image(img_path)\n",
        "                images.append(img)\n",
        "                labels.append(0)  # Sem rachadura\n",
        "            except Exception as e:\n",
        "                print(f\"Erro ao processar {filename}: {e}\")\n",
        "\n",
        "    if not images:\n",
        "        raise ValueError(\"Nenhuma imagem foi carregada. Verifique o caminho do dataset.\")\n",
        "\n",
        "    X = np.array(images)\n",
        "    y = np.array(labels)\n",
        "\n",
        "    print(f\"\\nDataset carregado com sucesso!\")\n",
        "    print(f\"Total de imagens: {len(X)}\")\n",
        "    print(f\"Imagens com rachadura: {np.sum(y)}\")\n",
        "    print(f\"Imagens sem rachadura: {len(y) - np.sum(y)}\")\n",
        "    print(f\"Shape das imagens: {X.shape}\")\n",
        "    print(f\"Shape dos labels: {y.shape}\")\n",
        "\n",
        "    return X, y\n",
        "\n",
        "X, y = load_full_dataset(DATA_PATH, sample_size=10000)  # Para teste rápido\n",
        "# X, y = load_full_dataset(DATA_PATH)  # Para dataset completo"
      ]
    },
    {
      "cell_type": "markdown",
      "metadata": {
        "id": "FQxVwItUJ8-c"
      },
      "source": [
        "# Training and Testing"
      ]
    },
    {
      "cell_type": "code",
      "execution_count": 64,
      "metadata": {
        "id": "7nLbOjMPJ_Oi"
      },
      "outputs": [
        {
          "name": "stdout",
          "output_type": "stream",
          "text": [
            "Conjunto de treino: 8000 imagens\n",
            "Conjunto de teste: 2000 imagens\n",
            "Distribuição treino - Com rachadura: 4000, Sem rachadura: 4000\n",
            "Distribuição teste - Com rachadura: 1000, Sem rachadura: 1000\n"
          ]
        },
        {
          "name": "stderr",
          "output_type": "stream",
          "text": [
            "c:\\Users\\rafae\\AppData\\Local\\Programs\\Python\\Python312\\Lib\\site-packages\\keras\\src\\layers\\convolutional\\base_conv.py:113: UserWarning: Do not pass an `input_shape`/`input_dim` argument to a layer. When using Sequential models, prefer using an `Input(shape)` object as the first layer in the model instead.\n",
            "  super().__init__(activity_regularizer=activity_regularizer, **kwargs)\n"
          ]
        }
      ],
      "source": [
        "def prepare_data(X, y, test_size=0.2):\n",
        "    \"\"\"\n",
        "    Prepara dados para treinamento\n",
        "    \"\"\"\n",
        "    X_train, X_test, y_train, y_test = train_test_split(\n",
        "        X, y, test_size=test_size, random_state=42, stratify=y\n",
        "    )\n",
        "\n",
        "    print(f\"Conjunto de treino: {len(X_train)} imagens\")\n",
        "    print(f\"Conjunto de teste: {len(X_test)} imagens\")\n",
        "    print(f\"Distribuição treino - Com rachadura: {np.sum(y_train)}, Sem rachadura: {len(y_train) - np.sum(y_train)}\")\n",
        "    print(f\"Distribuição teste - Com rachadura: {np.sum(y_test)}, Sem rachadura: {len(y_test) - np.sum(y_test)}\")\n",
        "\n",
        "    return X_train, X_test, y_train, y_test\n",
        "\n",
        "X_train, X_test, y_train, y_test = prepare_data(X, y)\n",
        "model = create_cnn_model(X_train.shape[1:])"
      ]
    },
    {
      "cell_type": "markdown",
      "metadata": {
        "id": "HY68YePEKUYL"
      },
      "source": [
        "## Data Augumentation"
      ]
    },
    {
      "cell_type": "code",
      "execution_count": 65,
      "metadata": {
        "id": "D72JPwxpKVmi"
      },
      "outputs": [],
      "source": [
        "def create_data_generators(X_train, y_train, batch_size=BATCH_SIZE):\n",
        "    \"\"\"\n",
        "    Cria geradores de dados com augmentation\n",
        "    \"\"\"\n",
        "    datagen = ImageDataGenerator(\n",
        "        rotation_range=20,\n",
        "        width_shift_range=0.2,\n",
        "        height_shift_range=0.2,\n",
        "        shear_range=0.2,\n",
        "        zoom_range=0.2,\n",
        "        horizontal_flip=True,\n",
        "        fill_mode='nearest',\n",
        "        validation_split=VALIDATION_SPLIT\n",
        "    )\n",
        "\n",
        "    train_generator = datagen.flow(\n",
        "        X_train, y_train,\n",
        "        batch_size=batch_size,\n",
        "        subset='training',\n",
        "        seed=42\n",
        "    )\n",
        "\n",
        "    validation_generator = datagen.flow(\n",
        "        X_train, y_train,\n",
        "        batch_size=batch_size,\n",
        "        subset='validation',\n",
        "        seed=42\n",
        "    )\n",
        "\n",
        "    return train_generator, validation_generator"
      ]
    },
    {
      "cell_type": "markdown",
      "metadata": {
        "id": "w4F4TsSaKbW2"
      },
      "source": [
        "## Training"
      ]
    },
    {
      "cell_type": "code",
      "execution_count": 66,
      "metadata": {
        "id": "UUWiQ_iqKcXB"
      },
      "outputs": [
        {
          "name": "stdout",
          "output_type": "stream",
          "text": [
            "Iniciando treinamento...\n",
            "Epoch 1/30\n"
          ]
        },
        {
          "name": "stderr",
          "output_type": "stream",
          "text": [
            "c:\\Users\\rafae\\AppData\\Local\\Programs\\Python\\Python312\\Lib\\site-packages\\keras\\src\\trainers\\data_adapters\\py_dataset_adapter.py:121: UserWarning: Your `PyDataset` class should call `super().__init__(**kwargs)` in its constructor. `**kwargs` can include `workers`, `use_multiprocessing`, `max_queue_size`. Do not pass these arguments to `fit()`, as they will be ignored.\n",
            "  self._warn_if_super_not_called()\n"
          ]
        },
        {
          "name": "stdout",
          "output_type": "stream",
          "text": [
            "\u001b[1m200/200\u001b[0m \u001b[32m━━━━━━━━━━━━━━━━━━━━\u001b[0m\u001b[37m\u001b[0m \u001b[1m6s\u001b[0m 22ms/step - accuracy: 0.6206 - loss: 0.6557 - precision: 0.6448 - recall: 0.5418 - val_accuracy: 0.8075 - val_loss: 0.4881 - val_precision: 0.9372 - val_recall: 0.6638 - learning_rate: 0.0010\n",
            "Epoch 2/30\n",
            "\u001b[1m200/200\u001b[0m \u001b[32m━━━━━━━━━━━━━━━━━━━━\u001b[0m\u001b[37m\u001b[0m \u001b[1m4s\u001b[0m 21ms/step - accuracy: 0.7953 - loss: 0.4831 - precision: 0.8307 - recall: 0.7434 - val_accuracy: 0.8313 - val_loss: 0.4308 - val_precision: 0.8738 - val_recall: 0.7787 - learning_rate: 0.0010\n",
            "Epoch 3/30\n",
            "\u001b[1m200/200\u001b[0m \u001b[32m━━━━━━━━━━━━━━━━━━━━\u001b[0m\u001b[37m\u001b[0m \u001b[1m4s\u001b[0m 21ms/step - accuracy: 0.7998 - loss: 0.4555 - precision: 0.8543 - recall: 0.7180 - val_accuracy: 0.8575 - val_loss: 0.3249 - val_precision: 0.9546 - val_recall: 0.7540 - learning_rate: 0.0010\n",
            "Epoch 4/30\n",
            "\u001b[1m200/200\u001b[0m \u001b[32m━━━━━━━━━━━━━━━━━━━━\u001b[0m\u001b[37m\u001b[0m \u001b[1m4s\u001b[0m 20ms/step - accuracy: 0.8646 - loss: 0.3378 - precision: 0.9210 - recall: 0.7960 - val_accuracy: 0.8950 - val_loss: 0.2798 - val_precision: 0.8933 - val_recall: 0.8999 - learning_rate: 0.0010\n",
            "Epoch 5/30\n",
            "\u001b[1m200/200\u001b[0m \u001b[32m━━━━━━━━━━━━━━━━━━━━\u001b[0m\u001b[37m\u001b[0m \u001b[1m4s\u001b[0m 20ms/step - accuracy: 0.8916 - loss: 0.2769 - precision: 0.9305 - recall: 0.8481 - val_accuracy: 0.9144 - val_loss: 0.2383 - val_precision: 0.9341 - val_recall: 0.8937 - learning_rate: 0.0010\n",
            "Epoch 6/30\n",
            "\u001b[1m200/200\u001b[0m \u001b[32m━━━━━━━━━━━━━━━━━━━━\u001b[0m\u001b[37m\u001b[0m \u001b[1m4s\u001b[0m 22ms/step - accuracy: 0.8909 - loss: 0.2704 - precision: 0.9225 - recall: 0.8524 - val_accuracy: 0.8925 - val_loss: 0.2713 - val_precision: 0.9747 - val_recall: 0.8084 - learning_rate: 0.0010\n",
            "Epoch 7/30\n",
            "\u001b[1m200/200\u001b[0m \u001b[32m━━━━━━━━━━━━━━━━━━━━\u001b[0m\u001b[37m\u001b[0m \u001b[1m5s\u001b[0m 23ms/step - accuracy: 0.9088 - loss: 0.2367 - precision: 0.9384 - recall: 0.8755 - val_accuracy: 0.9237 - val_loss: 0.2134 - val_precision: 0.9686 - val_recall: 0.8776 - learning_rate: 0.0010\n",
            "Epoch 8/30\n",
            "\u001b[1m200/200\u001b[0m \u001b[32m━━━━━━━━━━━━━━━━━━━━\u001b[0m\u001b[37m\u001b[0m \u001b[1m5s\u001b[0m 24ms/step - accuracy: 0.9197 - loss: 0.2160 - precision: 0.9441 - recall: 0.8899 - val_accuracy: 0.9306 - val_loss: 0.1783 - val_precision: 0.9616 - val_recall: 0.8986 - learning_rate: 0.0010\n",
            "Epoch 9/30\n",
            "\u001b[1m200/200\u001b[0m \u001b[32m━━━━━━━━━━━━━━━━━━━━\u001b[0m\u001b[37m\u001b[0m \u001b[1m12s\u001b[0m 56ms/step - accuracy: 0.9266 - loss: 0.1946 - precision: 0.9469 - recall: 0.9021 - val_accuracy: 0.9244 - val_loss: 0.2027 - val_precision: 0.9791 - val_recall: 0.8690 - learning_rate: 0.0010\n",
            "Epoch 10/30\n",
            "\u001b[1m200/200\u001b[0m \u001b[32m━━━━━━━━━━━━━━━━━━━━\u001b[0m\u001b[37m\u001b[0m \u001b[1m7s\u001b[0m 29ms/step - accuracy: 0.9351 - loss: 0.1794 - precision: 0.9515 - recall: 0.9176 - val_accuracy: 0.9531 - val_loss: 0.1262 - val_precision: 0.9565 - val_recall: 0.9506 - learning_rate: 0.0010\n",
            "Epoch 11/30\n",
            "\u001b[1m200/200\u001b[0m \u001b[32m━━━━━━━━━━━━━━━━━━━━\u001b[0m\u001b[37m\u001b[0m \u001b[1m5s\u001b[0m 25ms/step - accuracy: 0.9381 - loss: 0.1637 - precision: 0.9483 - recall: 0.9295 - val_accuracy: 0.9456 - val_loss: 0.1407 - val_precision: 0.9701 - val_recall: 0.9209 - learning_rate: 0.0010\n",
            "Epoch 12/30\n",
            "\u001b[1m200/200\u001b[0m \u001b[32m━━━━━━━━━━━━━━━━━━━━\u001b[0m\u001b[37m\u001b[0m \u001b[1m5s\u001b[0m 24ms/step - accuracy: 0.9544 - loss: 0.1282 - precision: 0.9613 - recall: 0.9474 - val_accuracy: 0.9556 - val_loss: 0.1278 - val_precision: 0.9601 - val_recall: 0.9518 - learning_rate: 0.0010\n",
            "Epoch 13/30\n",
            "\u001b[1m200/200\u001b[0m \u001b[32m━━━━━━━━━━━━━━━━━━━━\u001b[0m\u001b[37m\u001b[0m \u001b[1m5s\u001b[0m 24ms/step - accuracy: 0.9518 - loss: 0.1456 - precision: 0.9635 - recall: 0.9369 - val_accuracy: 0.9500 - val_loss: 0.1288 - val_precision: 0.9643 - val_recall: 0.9357 - learning_rate: 0.0010\n",
            "Epoch 14/30\n",
            "\u001b[1m200/200\u001b[0m \u001b[32m━━━━━━━━━━━━━━━━━━━━\u001b[0m\u001b[37m\u001b[0m \u001b[1m9s\u001b[0m 47ms/step - accuracy: 0.9437 - loss: 0.1453 - precision: 0.9513 - recall: 0.9335 - val_accuracy: 0.9550 - val_loss: 0.1104 - val_precision: 0.9670 - val_recall: 0.9431 - learning_rate: 0.0010\n",
            "Epoch 15/30\n",
            "\u001b[1m200/200\u001b[0m \u001b[32m━━━━━━━━━━━━━━━━━━━━\u001b[0m\u001b[37m\u001b[0m \u001b[1m5s\u001b[0m 25ms/step - accuracy: 0.9567 - loss: 0.1194 - precision: 0.9670 - recall: 0.9458 - val_accuracy: 0.9581 - val_loss: 0.1231 - val_precision: 0.9513 - val_recall: 0.9666 - learning_rate: 0.0010\n",
            "Epoch 16/30\n",
            "\u001b[1m200/200\u001b[0m \u001b[32m━━━━━━━━━━━━━━━━━━━━\u001b[0m\u001b[37m\u001b[0m \u001b[1m5s\u001b[0m 23ms/step - accuracy: 0.9521 - loss: 0.1259 - precision: 0.9602 - recall: 0.9423 - val_accuracy: 0.9631 - val_loss: 0.1023 - val_precision: 0.9596 - val_recall: 0.9679 - learning_rate: 0.0010\n",
            "Epoch 17/30\n",
            "\u001b[1m200/200\u001b[0m \u001b[32m━━━━━━━━━━━━━━━━━━━━\u001b[0m\u001b[37m\u001b[0m \u001b[1m5s\u001b[0m 23ms/step - accuracy: 0.9552 - loss: 0.1299 - precision: 0.9678 - recall: 0.9414 - val_accuracy: 0.9569 - val_loss: 0.1284 - val_precision: 0.9384 - val_recall: 0.9790 - learning_rate: 0.0010\n",
            "Epoch 18/30\n",
            "\u001b[1m200/200\u001b[0m \u001b[32m━━━━━━━━━━━━━━━━━━━━\u001b[0m\u001b[37m\u001b[0m \u001b[1m9s\u001b[0m 46ms/step - accuracy: 0.9590 - loss: 0.1078 - precision: 0.9654 - recall: 0.9533 - val_accuracy: 0.9600 - val_loss: 0.1010 - val_precision: 0.9733 - val_recall: 0.9468 - learning_rate: 0.0010\n",
            "Epoch 19/30\n",
            "\u001b[1m200/200\u001b[0m \u001b[32m━━━━━━━━━━━━━━━━━━━━\u001b[0m\u001b[37m\u001b[0m \u001b[1m18s\u001b[0m 92ms/step - accuracy: 0.9608 - loss: 0.1151 - precision: 0.9692 - recall: 0.9514 - val_accuracy: 0.9619 - val_loss: 0.0999 - val_precision: 0.9722 - val_recall: 0.9518 - learning_rate: 0.0010\n",
            "Epoch 20/30\n",
            "\u001b[1m200/200\u001b[0m \u001b[32m━━━━━━━━━━━━━━━━━━━━\u001b[0m\u001b[37m\u001b[0m \u001b[1m13s\u001b[0m 45ms/step - accuracy: 0.9640 - loss: 0.0987 - precision: 0.9706 - recall: 0.9579 - val_accuracy: 0.9688 - val_loss: 0.0816 - val_precision: 0.9750 - val_recall: 0.9629 - learning_rate: 0.0010\n",
            "Epoch 21/30\n",
            "\u001b[1m200/200\u001b[0m \u001b[32m━━━━━━━━━━━━━━━━━━━━\u001b[0m\u001b[37m\u001b[0m \u001b[1m12s\u001b[0m 59ms/step - accuracy: 0.9621 - loss: 0.1057 - precision: 0.9731 - recall: 0.9493 - val_accuracy: 0.9737 - val_loss: 0.0760 - val_precision: 0.9706 - val_recall: 0.9778 - learning_rate: 0.0010\n",
            "Epoch 22/30\n",
            "\u001b[1m200/200\u001b[0m \u001b[32m━━━━━━━━━━━━━━━━━━━━\u001b[0m\u001b[37m\u001b[0m \u001b[1m13s\u001b[0m 62ms/step - accuracy: 0.9670 - loss: 0.0930 - precision: 0.9736 - recall: 0.9590 - val_accuracy: 0.9688 - val_loss: 0.0875 - val_precision: 0.9611 - val_recall: 0.9778 - learning_rate: 0.0010\n",
            "Epoch 23/30\n",
            "\u001b[1m200/200\u001b[0m \u001b[32m━━━━━━━━━━━━━━━━━━━━\u001b[0m\u001b[37m\u001b[0m \u001b[1m7s\u001b[0m 36ms/step - accuracy: 0.9691 - loss: 0.0926 - precision: 0.9753 - recall: 0.9615 - val_accuracy: 0.9725 - val_loss: 0.0811 - val_precision: 0.9716 - val_recall: 0.9740 - learning_rate: 0.0010\n",
            "Epoch 24/30\n",
            "\u001b[1m200/200\u001b[0m \u001b[32m━━━━━━━━━━━━━━━━━━━━\u001b[0m\u001b[37m\u001b[0m \u001b[1m7s\u001b[0m 34ms/step - accuracy: 0.9717 - loss: 0.0806 - precision: 0.9763 - recall: 0.9664 - val_accuracy: 0.9750 - val_loss: 0.0766 - val_precision: 0.9753 - val_recall: 0.9753 - learning_rate: 0.0010\n",
            "Epoch 25/30\n",
            "\u001b[1m200/200\u001b[0m \u001b[32m━━━━━━━━━━━━━━━━━━━━\u001b[0m\u001b[37m\u001b[0m \u001b[1m9s\u001b[0m 46ms/step - accuracy: 0.9682 - loss: 0.0894 - precision: 0.9746 - recall: 0.9616 - val_accuracy: 0.9719 - val_loss: 0.0893 - val_precision: 0.9716 - val_recall: 0.9728 - learning_rate: 0.0010\n",
            "Epoch 26/30\n",
            "\u001b[1m200/200\u001b[0m \u001b[32m━━━━━━━━━━━━━━━━━━━━\u001b[0m\u001b[37m\u001b[0m \u001b[1m8s\u001b[0m 39ms/step - accuracy: 0.9705 - loss: 0.0775 - precision: 0.9764 - recall: 0.9640 - val_accuracy: 0.9744 - val_loss: 0.0689 - val_precision: 0.9776 - val_recall: 0.9716 - learning_rate: 0.0010\n",
            "Epoch 27/30\n",
            "\u001b[1m200/200\u001b[0m \u001b[32m━━━━━━━━━━━━━━━━━━━━\u001b[0m\u001b[37m\u001b[0m \u001b[1m9s\u001b[0m 47ms/step - accuracy: 0.9761 - loss: 0.0748 - precision: 0.9826 - recall: 0.9696 - val_accuracy: 0.9775 - val_loss: 0.0683 - val_precision: 0.9640 - val_recall: 0.9926 - learning_rate: 0.0010\n",
            "Epoch 28/30\n",
            "\u001b[1m200/200\u001b[0m \u001b[32m━━━━━━━━━━━━━━━━━━━━\u001b[0m\u001b[37m\u001b[0m \u001b[1m8s\u001b[0m 40ms/step - accuracy: 0.9710 - loss: 0.0743 - precision: 0.9780 - recall: 0.9649 - val_accuracy: 0.9837 - val_loss: 0.0675 - val_precision: 0.9815 - val_recall: 0.9864 - learning_rate: 0.0010\n",
            "Epoch 29/30\n",
            "\u001b[1m200/200\u001b[0m \u001b[32m━━━━━━━━━━━━━━━━━━━━\u001b[0m\u001b[37m\u001b[0m \u001b[1m7s\u001b[0m 36ms/step - accuracy: 0.9750 - loss: 0.0682 - precision: 0.9796 - recall: 0.9706 - val_accuracy: 0.9769 - val_loss: 0.0748 - val_precision: 0.9742 - val_recall: 0.9802 - learning_rate: 0.0010\n",
            "Epoch 30/30\n",
            "\u001b[1m200/200\u001b[0m \u001b[32m━━━━━━━━━━━━━━━━━━━━\u001b[0m\u001b[37m\u001b[0m \u001b[1m9s\u001b[0m 43ms/step - accuracy: 0.9790 - loss: 0.0620 - precision: 0.9831 - recall: 0.9748 - val_accuracy: 0.9750 - val_loss: 0.0754 - val_precision: 0.9729 - val_recall: 0.9778 - learning_rate: 0.0010\n",
            "Restoring model weights from the end of the best epoch: 28.\n"
          ]
        }
      ],
      "source": [
        "def train_model(model, X_train, y_train, use_augmentation=True):\n",
        "    \"\"\"\n",
        "    Treina o modelo\n",
        "    \"\"\"\n",
        "    # Callbacks\n",
        "    callbacks = [\n",
        "        EarlyStopping(\n",
        "            monitor='val_loss',\n",
        "            patience=10,\n",
        "            restore_best_weights=True,\n",
        "            verbose=1\n",
        "        ),\n",
        "        ReduceLROnPlateau(\n",
        "            monitor='val_loss',\n",
        "            factor=0.5,\n",
        "            patience=5,\n",
        "            min_lr=1e-7,\n",
        "            verbose=1\n",
        "        )\n",
        "    ]\n",
        "\n",
        "    if use_augmentation:\n",
        "        # Treinamento com data augmentation\n",
        "        train_gen, val_gen = create_data_generators(X_train, y_train)\n",
        "\n",
        "        history = model.fit(\n",
        "            train_gen,\n",
        "            epochs=EPOCHS,\n",
        "            validation_data=val_gen,\n",
        "            callbacks=callbacks,\n",
        "            verbose=1\n",
        "        )\n",
        "    else:\n",
        "        # Treinamento sem augmentation\n",
        "        history = model.fit(\n",
        "            X_train, y_train,\n",
        "            batch_size=BATCH_SIZE,\n",
        "            epochs=EPOCHS,\n",
        "            validation_split=VALIDATION_SPLIT,\n",
        "            callbacks=callbacks,\n",
        "            verbose=1\n",
        "        )\n",
        "\n",
        "    return history\n",
        "\n",
        "print(\"Iniciando treinamento...\")\n",
        "history = train_model(model, X_train, y_train, use_augmentation=True)"
      ]
    },
    {
      "cell_type": "markdown",
      "metadata": {
        "id": "TvpkXV15Kxhn"
      },
      "source": [
        "## Model Review"
      ]
    },
    {
      "cell_type": "code",
      "execution_count": 67,
      "metadata": {
        "id": "RbNQ3XSaKy-S"
      },
      "outputs": [
        {
          "name": "stdout",
          "output_type": "stream",
          "text": [
            "Fazendo predições...\n",
            "\u001b[1m63/63\u001b[0m \u001b[32m━━━━━━━━━━━━━━━━━━━━\u001b[0m\u001b[37m\u001b[0m \u001b[1m0s\u001b[0m 5ms/step\n",
            "\n",
            "=== RESULTADOS DA AVALIAÇÃO ===\n",
            "Acurácia no conjunto de teste: 0.9760 (97.60%)\n",
            "✅ APROVADO: Acurácia >= 80%\n",
            "\n",
            "=== RELATÓRIO DE CLASSIFICAÇÃO ===\n",
            "               precision    recall  f1-score   support\n",
            "\n",
            "Sem Rachadura       0.98      0.97      0.98      1000\n",
            "Com Rachadura       0.97      0.98      0.98      1000\n",
            "\n",
            "     accuracy                           0.98      2000\n",
            "    macro avg       0.98      0.98      0.98      2000\n",
            " weighted avg       0.98      0.98      0.98      2000\n",
            "\n"
          ]
        },
        {
          "data": {
            "image/png": "[encoded data removed]",
            "text/plain": [
              "<Figure size 800x600 with 2 Axes>"
            ]
          },
          "metadata": {},
          "output_type": "display_data"
        },
        {
          "data": {
            "image/png": "[encoded data removed]",
            "text/plain": [
              "<Figure size 1200x800 with 4 Axes>"
            ]
          },
          "metadata": {},
          "output_type": "display_data"
        }
      ],
      "source": [
        "def evaluate_model(model, X_test, y_test, history):\n",
        "    \"\"\"\n",
        "    Avalia o modelo treinado\n",
        "    \"\"\"\n",
        "    # Predições\n",
        "    print(\"Fazendo predições...\")\n",
        "    y_pred_proba = model.predict(X_test)\n",
        "    y_pred = (y_pred_proba > 0.5).astype(int).flatten()\n",
        "\n",
        "    # Métricas\n",
        "    accuracy = accuracy_score(y_test, y_pred)\n",
        "    print(f\"\\n=== RESULTADOS DA AVALIAÇÃO ===\")\n",
        "    print(f\"Acurácia no conjunto de teste: {accuracy:.4f} ({accuracy*100:.2f}%)\")\n",
        "\n",
        "    # Verificar se atende ao requisito de 80%\n",
        "    if accuracy >= 0.8:\n",
        "        print(\"✅ APROVADO: Acurácia >= 80%\")\n",
        "    else:\n",
        "        print(\"❌ REPROVADO: Acurácia < 80%\")\n",
        "\n",
        "    # Relatório detalhado\n",
        "    print(\"\\n=== RELATÓRIO DE CLASSIFICAÇÃO ===\")\n",
        "    print(classification_report(y_test, y_pred,\n",
        "                              target_names=['Sem Rachadura', 'Com Rachadura']))\n",
        "\n",
        "    # Matriz de confusão\n",
        "    cm = confusion_matrix(y_test, y_pred)\n",
        "    plt.figure(figsize=(8, 6))\n",
        "    sns.heatmap(cm, annot=True, fmt='d', cmap='Blues',\n",
        "                xticklabels=['Sem Rachadura', 'Com Rachadura'],\n",
        "                yticklabels=['Sem Rachadura', 'Com Rachadura'])\n",
        "    plt.title('Matriz de Confusão')\n",
        "    plt.ylabel('Valor Real')\n",
        "    plt.xlabel('Predição')\n",
        "    plt.show()\n",
        "\n",
        "    # Plotar histórico de treinamento\n",
        "    plot_training_history(history)\n",
        "\n",
        "    return accuracy, y_pred_proba\n",
        "\n",
        "def plot_training_history(history):\n",
        "    \"\"\"\n",
        "    Plota histórico de treinamento\n",
        "    \"\"\"\n",
        "    fig, axes = plt.subplots(2, 2, figsize=(12, 8))\n",
        "\n",
        "    # Acurácia\n",
        "    axes[0, 0].plot(history.history['accuracy'], label='Treino')\n",
        "    axes[0, 0].plot(history.history['val_accuracy'], label='Validação')\n",
        "    axes[0, 0].set_title('Acurácia')\n",
        "    axes[0, 0].set_xlabel('Época')\n",
        "    axes[0, 0].set_ylabel('Acurácia')\n",
        "    axes[0, 0].legend()\n",
        "    axes[0, 0].grid(True)\n",
        "\n",
        "    # Loss\n",
        "    axes[0, 1].plot(history.history['loss'], label='Treino')\n",
        "    axes[0, 1].plot(history.history['val_loss'], label='Validação')\n",
        "    axes[0, 1].set_title('Loss')\n",
        "    axes[0, 1].set_xlabel('Época')\n",
        "    axes[0, 1].set_ylabel('Loss')\n",
        "    axes[0, 1].legend()\n",
        "    axes[0, 1].grid(True)\n",
        "\n",
        "    # Precisão\n",
        "    if 'precision' in history.history:\n",
        "        axes[1, 0].plot(history.history['precision'], label='Treino')\n",
        "        axes[1, 0].plot(history.history['val_precision'], label='Validação')\n",
        "        axes[1, 0].set_title('Precisão')\n",
        "        axes[1, 0].set_xlabel('Época')\n",
        "        axes[1, 0].set_ylabel('Precisão')\n",
        "        axes[1, 0].legend()\n",
        "        axes[1, 0].grid(True)\n",
        "\n",
        "    # Recall\n",
        "    if 'recall' in history.history:\n",
        "        axes[1, 1].plot(history.history['recall'], label='Treino')\n",
        "        axes[1, 1].plot(history.history['val_recall'], label='Validação')\n",
        "        axes[1, 1].set_title('Recall')\n",
        "        axes[1, 1].set_xlabel('Época')\n",
        "        axes[1, 1].set_ylabel('Recall')\n",
        "        axes[1, 1].legend()\n",
        "        axes[1, 1].grid(True)\n",
        "\n",
        "    plt.tight_layout()\n",
        "    plt.show()\n",
        "\n",
        "# Avaliar modelo (descomente após treinar)\n",
        "accuracy, predictions = evaluate_model(model, X_test, y_test, history)"
      ]
    },
    {
      "cell_type": "markdown",
      "metadata": {
        "id": "dqkw9RRwK336"
      },
      "source": [
        "## Interface"
      ]
    },
    {
      "cell_type": "code",
      "execution_count": 68,
      "metadata": {
        "id": "ChaafexuK4uJ"
      },
      "outputs": [
        {
          "name": "stdout",
          "output_type": "stream",
          "text": [
            "==================================================\n",
            "🏗️  SISTEMA DE DETECÇÃO DE RACHADURAS EM CONCRETO\n",
            "==================================================\n",
            "\n",
            "📋 INSTRUÇÕES:\n",
            "1. Faça upload do dataset 'Concrete Crack Images for Classification'\n",
            "2. Execute as células na ordem para:\n",
            "   - Carregar e explorar o dataset\n",
            "   - Treinar o modelo CNN\n",
            "   - Avaliar o desempenho\n",
            "   - Testar com imagens individuais\n",
            "\n",
            "🎯 OBJETIVO:\n",
            "- Classificar imagens de concreto como 'COM RACHADURA' ou 'SEM RACHADURA'\n",
            "- Atingir acurácia mínima de 80% no conjunto de teste\n",
            "\n",
            "🔧 TÉCNICAS UTILIZADAS:\n",
            "- Pré-processamento: Filtro Gaussiano, Redimensionamento, Normalização\n",
            "- CNN com 4 camadas convolucionais\n",
            "- Data Augmentation\n",
            "- Dropout para regularização\n",
            "- Early Stopping e Learning Rate Reduction\n",
            "\n",
            "📊 MÉTRICAS DE AVALIAÇÃO:\n",
            "- Acurácia, Precisão, Recall, F1-Score\n",
            "- Matriz de Confusão\n",
            "- Curvas de Treinamento\n",
            "==================================================\n"
          ]
        }
      ],
      "source": [
        "def create_demo_interface():\n",
        "    \"\"\"\n",
        "    Cria interface de demonstração\n",
        "    \"\"\"\n",
        "    print(\"=\"*50)\n",
        "    print(\"🏗️  SISTEMA DE DETECÇÃO DE RACHADURAS EM CONCRETO\")\n",
        "    print(\"=\"*50)\n",
        "    print()\n",
        "    print(\"📋 INSTRUÇÕES:\")\n",
        "    print(\"1. Faça upload do dataset 'Concrete Crack Images for Classification'\")\n",
        "    print(\"2. Execute as células na ordem para:\")\n",
        "    print(\"   - Carregar e explorar o dataset\")\n",
        "    print(\"   - Treinar o modelo CNN\")\n",
        "    print(\"   - Avaliar o desempenho\")\n",
        "    print(\"   - Testar com imagens individuais\")\n",
        "    print()\n",
        "    print(\"🎯 OBJETIVO:\")\n",
        "    print(\"- Classificar imagens de concreto como 'COM RACHADURA' ou 'SEM RACHADURA'\")\n",
        "    print(\"- Atingir acurácia mínima de 80% no conjunto de teste\")\n",
        "    print()\n",
        "    print(\"🔧 TÉCNICAS UTILIZADAS:\")\n",
        "    print(\"- Pré-processamento: Filtro Gaussiano, Redimensionamento, Normalização\")\n",
        "    print(\"- CNN com 4 camadas convolucionais\")\n",
        "    print(\"- Data Augmentation\")\n",
        "    print(\"- Dropout para regularização\")\n",
        "    print(\"- Early Stopping e Learning Rate Reduction\")\n",
        "    print()\n",
        "    print(\"📊 MÉTRICAS DE AVALIAÇÃO:\")\n",
        "    print(\"- Acurácia, Precisão, Recall, F1-Score\")\n",
        "    print(\"- Matriz de Confusão\")\n",
        "    print(\"- Curvas de Treinamento\")\n",
        "    print(\"=\"*50)\n",
        "\n",
        "create_demo_interface()"
      ]
    },
    {
      "cell_type": "markdown",
      "metadata": {
        "id": "ARuU3zhFK_yX"
      },
      "source": [
        "## Pipeline"
      ]
    },
    {
      "cell_type": "code",
      "execution_count": 70,
      "metadata": {
        "id": "y1thV11iLAv6"
      },
      "outputs": [
        {
          "name": "stdout",
          "output_type": "stream",
          "text": [
            "=== PIPELINE COMPLETO DE EXEMPLO ===\n",
            "\n",
            "# 1. Carregar dataset\n",
            "X, y = load_full_dataset(DATA_PATH, sample_size=2000)\n",
            "\n",
            "# 2. Preparar dados\n",
            "X_train, X_test, y_train, y_test = prepare_data(X, y)\n",
            "\n",
            "# 3. Criar modelo\n",
            "model = create_cnn_model()\n",
            "\n",
            "# 4. Treinar modelo\n",
            "history = train_model(model, X_train, y_train)\n",
            "\n",
            "# 5. Avaliar modelo\n",
            "accuracy, predictions = evaluate_model(model, X_test, y_test, history)\n",
            "\n",
            "# 6. Testar imagem individual\n",
            "result, confidence = predict_single_image(model, '/path/to/image.jpg')\n",
            "\n",
            "# 7. Salvar modelo\n",
            "model.save('/content/concrete_crack_model.h5')\n"
          ]
        }
      ],
      "source": [
        "def complete_pipeline_example():\n",
        "    \"\"\"\n",
        "    Exemplo completo do pipeline\n",
        "    \"\"\"\n",
        "    print(\"=== PIPELINE COMPLETO DE EXEMPLO ===\")\n",
        "    print()\n",
        "    print(\"# 1. Carregar dataset\")\n",
        "    print(\"X, y = load_full_dataset(DATA_PATH, sample_size=2000)\")\n",
        "    print()\n",
        "    print(\"# 2. Preparar dados\")\n",
        "    print(\"X_train, X_test, y_train, y_test = prepare_data(X, y)\")\n",
        "    print()\n",
        "    print(\"# 3. Criar modelo\")\n",
        "    print(\"model = create_cnn_model()\")\n",
        "    print()\n",
        "    print(\"# 4. Treinar modelo\")\n",
        "    print(\"history = train_model(model, X_train, y_train)\")\n",
        "    print()\n",
        "    print(\"# 5. Avaliar modelo\")\n",
        "    print(\"accuracy, predictions = evaluate_model(model, X_test, y_test, history)\")\n",
        "    print()\n",
        "    print(\"# 6. Testar imagem individual\")\n",
        "    print(\"result, confidence = predict_single_image(model, '/path/to/image.jpg')\")\n",
        "    print()\n",
        "    print(\"# 7. Salvar modelo\")\n",
        "    print(\"model.save('/content/concrete_crack_model.h5')\")\n",
        "\n",
        "complete_pipeline_example()\n"
      ]
    },
    {
      "cell_type": "markdown",
      "metadata": {
        "id": "l3ny-9euLBOD"
      },
      "source": [
        "## Save and Load Trained Model"
      ]
    },
    {
      "cell_type": "code",
      "execution_count": null,
      "metadata": {
        "id": "VLU1hAHqLDE7"
      },
      "outputs": [],
      "source": [
        "def save_model(model, filepath='/content/concrete_crack_model.h5'):\n",
        "    \"\"\"\n",
        "    Salva o modelo treinado\n",
        "    \"\"\"\n",
        "    model.save(filepath)\n",
        "    print(f\"Modelo salvo em: {filepath}\")\n",
        "\n",
        "def load_saved_model(filepath='/content/concrete_crack_model.h5'):\n",
        "    \"\"\"\n",
        "    Carrega modelo salvo\n",
        "    \"\"\"\n",
        "    if os.path.exists(filepath):\n",
        "        model = keras.models.load_model(filepath)\n",
        "        print(f\"Modelo carregado de: {filepath}\")\n",
        "        return model\n",
        "    else:\n",
        "        print(f\"Arquivo não encontrado: {filepath}\")\n",
        "        return None\n",
        "\n",
        "# save_model(model)\n",
        "# loaded_model = load_saved_model()"
      ]
    }
  ],
  "metadata": {
    "accelerator": "GPU",
    "colab": {
      "gpuType": "T4",
      "provenance": []
    },
    "kernelspec": {
      "display_name": "Python 3",
      "name": "python3"
    },
    "language_info": {
      "codemirror_mode": {
        "name": "ipython",
        "version": 3
      },
      "file_extension": ".py",
      "mimetype": "text/x-python",
      "name": "python",
      "nbconvert_exporter": "python",
      "pygments_lexer": "ipython3",
      "version": "3.12.1"
    }
  },
  "nbformat": 4,
  "nbformat_minor": 0
}
